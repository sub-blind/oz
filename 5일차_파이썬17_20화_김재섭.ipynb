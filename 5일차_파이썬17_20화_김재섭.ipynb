{
  "nbformat": 4,
  "nbformat_minor": 0,
  "metadata": {
    "colab": {
      "provenance": [],
      "include_colab_link": true
    },
    "kernelspec": {
      "name": "python3",
      "display_name": "Python 3"
    },
    "language_info": {
      "name": "python"
    }
  },
  "cells": [
    {
      "cell_type": "markdown",
      "metadata": {
        "id": "view-in-github",
        "colab_type": "text"
      },
      "source": [
        "<a href=\"https://colab.research.google.com/github/sub-blind/oz/blob/main/5%EC%9D%BC%EC%B0%A8_%ED%8C%8C%EC%9D%B4%EC%8D%AC17_20%ED%99%94_%EA%B9%80%EC%9E%AC%EC%84%AD.ipynb\" target=\"_parent\"><img src=\"https://colab.research.google.com/assets/colab-badge.svg\" alt=\"Open In Colab\"/></a>"
      ]
    },
    {
      "cell_type": "markdown",
      "source": [
        "안녕하세요. 수강생 여러분~! Chapter17 ~ 20 수업은 잘 들으셨나요?\n",
        "\n",
        "Chapter17 ~ 20의 수업 내용을 바탕으로 아래 문제를 풀어주시면 됩니다.\n",
        "\n",
        "####**제출 방법 안내**\n",
        "상단 파일명(4일차_파이썬17_20화.ipynb)을 5일차_파이썬17_20화_000(본인이름).ipynb로 변경후 아래 링크로 접속 후 본인 이름의 폴더에 제출해주면 됩니다.\n",
        "\n",
        "제출 링크 :\n",
        "\n",
        "####**답변 입력 방법 안내**\n",
        "\"답변\"이라고 적힌란을 마우스로 더블 클릭하시면 글을 작성할 수 있습니다.\n",
        "\n",
        "텍스트에 글을 더 잘 작성하기 위해서는 마크다운 언어를 공부하시면 됩니다.\n",
        "\n",
        "**(구글 검색 창에 \"코랩 마크다운\" 검색)**"
      ],
      "metadata": {
        "id": "aLkxKxnFLowa"
      }
    },
    {
      "cell_type": "markdown",
      "source": [
        "문제1  \n",
        "\n",
        "print_even 리스트 내에 있는 값 중 짝수만 화면에 출력되도록 print_score 함수를 생성 후 결과값을 출력해주세요\n",
        "\n",
        "print_even ([1, 3, 2, 10, 12, 11, 15])"
      ],
      "metadata": {
        "id": "pYJ1dSggLwcG"
      }
    },
    {
      "cell_type": "code",
      "execution_count": null,
      "metadata": {
        "id": "PTqEeebbLmCA",
        "outputId": "90a174ed-8b19-4ec3-d6b7-6d31fa384eff",
        "colab": {
          "base_uri": "https://localhost:8080/"
        }
      },
      "outputs": [
        {
          "output_type": "stream",
          "name": "stdout",
          "text": [
            "2\n",
            "10\n",
            "12\n"
          ]
        }
      ],
      "source": [
        "def solution(list):\n",
        "    for even in list:\n",
        "        if even % 2 == 0:\n",
        "            print(even)\n",
        "\n",
        "numbers = [1, 3, 2, 10, 12, 11, 15]\n",
        "solution(numbers)"
      ]
    },
    {
      "cell_type": "markdown",
      "source": [
        "문제2  \n",
        "\n",
        "비어있는 오즈 (oz) 클래스를 \"정의\" 해보세요."
      ],
      "metadata": {
        "id": "ZkGserEsQS0L"
      }
    },
    {
      "cell_type": "code",
      "source": [
        "class oz:\n",
        "    def __init__(self):\n",
        "        pass"
      ],
      "metadata": {
        "id": "dJbcWWlwL0iK"
      },
      "execution_count": null,
      "outputs": []
    },
    {
      "cell_type": "markdown",
      "source": [
        "문제3   \n",
        "\n",
        "오즈(oz) 클래스의 인스턴스를 \"생성\" 하고 이를 coding 변수로 할당해보세요."
      ],
      "metadata": {
        "id": "Ofy86rZfL1Mg"
      }
    },
    {
      "cell_type": "code",
      "source": [
        "class oz:\n",
        "    def __init__(self):\n",
        "        pass\n",
        "\n",
        "coding = oz()"
      ],
      "metadata": {
        "id": "5NhWiuULL2Xa"
      },
      "execution_count": null,
      "outputs": []
    },
    {
      "cell_type": "markdown",
      "source": [
        "문제4  \n",
        "\n",
        "오즈(oz) 클래스에 \"클래스 정복\"을 출력하는 기본 생성자를 추가해주세요"
      ],
      "metadata": {
        "id": "5T6EMx8EL26b"
      }
    },
    {
      "cell_type": "code",
      "source": [
        "class oz:\n",
        "    def __init__(self):\n",
        "        print('클래스 정복')\n",
        "\n",
        "coding = oz()"
      ],
      "metadata": {
        "id": "Zq35PXA0L3-m",
        "outputId": "eee19589-94ec-4d11-9545-b3284b731a34",
        "colab": {
          "base_uri": "https://localhost:8080/"
        }
      },
      "execution_count": null,
      "outputs": [
        {
          "output_type": "stream",
          "name": "stdout",
          "text": [
            "클래스 정복\n"
          ]
        }
      ]
    },
    {
      "cell_type": "markdown",
      "source": [
        "문제5  \n",
        "\n",
        "오즈 (oz) 클래스에 (이름, 나이, 코딩레벨)을 받는 생성자를 추가해주세요\n",
        "\n",
        "coding = oz(\"김코\", 30, \"A\")\n"
      ],
      "metadata": {
        "id": "htuycQWSL4l-"
      }
    },
    {
      "cell_type": "code",
      "source": [
        "class oz:\n",
        "    def __init__(self, name, age, coding_level):\n",
        "        self.name = name\n",
        "        self.age = age\n",
        "        self.coding_level = coding_level\n",
        "\n",
        "coding = oz(\"김코\", 30, \"A\")"
      ],
      "metadata": {
        "id": "A7h3I8CWL5ox"
      },
      "execution_count": null,
      "outputs": []
    },
    {
      "cell_type": "markdown",
      "source": [
        "문제6\n",
        "\n",
        "5번 문제에서 생성한 인스턴스의 이름, 나이, 성별을 출력해주세요.\n",
        "인스턴스 변수에 접근하여 값을 출력하면 됩니다  : )\n",
        "\n",
        "출력 결과  \n",
        "이름 : 김코  \n",
        "나이 : 30  \n",
        "코딩레벨 : A  "
      ],
      "metadata": {
        "id": "ZGDLHI5xL6Bd"
      }
    },
    {
      "cell_type": "code",
      "source": [
        "class oz:\n",
        "    def __init__(self, name, age, coding_level):\n",
        "        self.name = name\n",
        "        self.age = age\n",
        "        self.coding_level = coding_level\n",
        "\n",
        "coding = oz(\"김코\", 30, \"A\")\n",
        "\n",
        "print(\"이름:\", coding.name)\n",
        "print(\"나이:\", coding.age)\n",
        "print(\"코딩레벨:\", coding.coding_level)\n"
      ],
      "metadata": {
        "id": "D-eAWqlMSGm5",
        "outputId": "e62f6492-a57a-4c61-c93f-d5f1f857f5f9",
        "colab": {
          "base_uri": "https://localhost:8080/"
        }
      },
      "execution_count": null,
      "outputs": [
        {
          "output_type": "stream",
          "name": "stdout",
          "text": [
            "이름: 김코\n",
            "나이: 30\n",
            "코딩레벨: A\n"
          ]
        }
      ]
    },
    {
      "cell_type": "markdown",
      "source": [
        "뮨제7  \n",
        "\n",
        "오즈 (oz) 클래스에서 이름, 나이, 성별을 출력하는 who() 메소드를 추가하고 who()메소드를 이용해 아래 출력 결과를 만들어주세요\n",
        "\n",
        "\n",
        "출력 결과 : 이름: 김코, 나이: 30, 코딩레벨: A"
      ],
      "metadata": {
        "id": "RmtPk-A1L8z4"
      }
    },
    {
      "cell_type": "code",
      "source": [
        "class oz:\n",
        "    def __init__(self, name, age, coding_level):\n",
        "        self.name = name\n",
        "        self.age = age\n",
        "        self.coding_level = coding_level\n",
        "\n",
        "    def who(self):\n",
        "        print(\"이름:\",(self.name),\", 나이:\" ,(self.age),\", 코딩레벨:\" ,(self.coding_level))\n",
        "\n",
        "coding = oz(\"김코\", 30, \"A\")\n",
        "\n",
        "coding.who()"
      ],
      "metadata": {
        "id": "fvrvm87vL_HZ",
        "outputId": "61220bb8-2d28-4428-d2c0-d7972b9a1d2a",
        "colab": {
          "base_uri": "https://localhost:8080/"
        }
      },
      "execution_count": null,
      "outputs": [
        {
          "output_type": "stream",
          "name": "stdout",
          "text": [
            "이름: 김코 , 나이: 30 , 코딩레벨: A\n"
          ]
        }
      ]
    }
  ]
}