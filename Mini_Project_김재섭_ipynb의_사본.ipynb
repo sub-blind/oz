{
  "cells": [
    {
      "cell_type": "markdown",
      "metadata": {
        "id": "view-in-github",
        "colab_type": "text"
      },
      "source": [
        "<a href=\"https://colab.research.google.com/github/sub-blind/oz/blob/main/Mini_Project_%EA%B9%80%EC%9E%AC%EC%84%AD_ipynb%EC%9D%98_%EC%82%AC%EB%B3%B8.ipynb\" target=\"_parent\"><img src=\"https://colab.research.google.com/assets/colab-badge.svg\" alt=\"Open In Colab\"/></a>"
      ]
    },
    {
      "cell_type": "markdown",
      "metadata": {
        "id": "MoWlK0jinrpN"
      },
      "source": [
        "\n",
        "## Mini project [행맨 게임 제작]\n",
        "\n",
        "안녕하세요.\n",
        "수강생 여러분~! Chapter17 ~ 20 수업은 잘 들으셨나요?\n",
        "\n",
        "여러분의 모든 역량을 총 동원해 문제를 풀어주셨합니다.\n",
        "\n",
        "\n",
        "\n",
        "#### 과제 설명\n",
        "\n",
        "이번 개발 주제는 '행맨' 게임이구요.\n",
        "\n",
        "행맨 게임은 아주 유명한 단어 퀴즈 프로그램이예요\n",
        "\n",
        "어떤 단어가 주어지면 그 단어의 길이만큼 빈 칸(밑줄) 이 주어지고\n",
        "플레이어는 알파벳을 하나씩 얘기하면서 단어를 추측해요!\n",
        "\n",
        "10번만에 맞히지 못하면 게임이 끝납니다. 🥲\n",
        "\n"
      ]
    },
    {
      "cell_type": "markdown",
      "metadata": {
        "id": "TQ0_AReItZ4z"
      },
      "source": [
        "#### 예시를 들어볼께요!!\n",
        "\n",
        "만약 E 가 단어에 포함돼있다면, 해당하는 위치에 E 를 표시해줍니다\n",
        "\n",
        "_ _ _ _ E E\n",
        "이렇게 되겠네요.\n",
        "\n",
        "이번에는 A를 해볼께요\n",
        "A 는 포함되지 않으므로 기회가 줄어들고 지금까지 맞힌 내용 그대로 출력합니다.\n",
        "\n",
        "_ _ _ _ E E\n",
        "변화가 없지요.\n",
        "\n",
        "이번에는 C 를 해봅시다.\n",
        "\n",
        "그럼\n",
        "C _ _ _ E E\n",
        "\n",
        "다음에는 F 를\n",
        "C _ F F E E\n",
        "\n",
        "마지막으로 O 를 해보면\n",
        "C O F F E E 로 게임은 성공으로 끝나게 됩니다."
      ]
    },
    {
      "cell_type": "markdown",
      "metadata": {
        "id": "eAI1BLDfuoNp"
      },
      "source": [
        "##본격적인 행맨 게임 규칙 설명\n",
        "\n",
        "- words 리스트에 추가된 단어들을 사용해주세요\n",
        "  - words = [\"apple\", \"banana\", \"orange\", \"grape\", \"lemon\"]\n",
        "\n",
        "- 단어의 길이에 맞게 밑줄을 출력해주세요  \n",
        "  (예)banana의 경우 _ _ _ _ _ _\n",
        "\n",
        "- 사용자부터 1글자씩 입력을 받되,\n",
        "   - 단어에 입력값이 포함되면 \"단어를 맞추셨군요. 더 힘내봐요\"라고 출력해주세요\"\n",
        "   - 단어에 입력값이 포함되어 있지 않다면 \"틀렸습니다. 남은 시도 횟수 \"란 메시지와 함꼐 남은 횟수를 출력해주세요\n",
        "\n",
        "- 매번 입력을 받을 때마다 현재까지 맞힌 글자들 표시(맞히면 글자는 밑줄 출력)\n",
        "    - 예) a 입력 시 : a _ _ _ _\n",
        "          p 입력 시 : a p p _ _\n",
        "          c 입력 시 : a p p _ _\n",
        "\n",
        "- 모든 단어를 맞췄을 경우 \"축하합니다! 단어를 맞추셨습니다\"와 시도 횟수를 출력해주세요\n",
        "\n",
        "\n",
        "행맨은 정말 유명 게임으로 찾아볼 수 있는 자료들이 많습니다.   \n",
        "문제가 어려우신 경우 구글링 통해 문제를 해결해보세요.  "
      ]
    },
    {
      "cell_type": "code",
      "execution_count": 30,
      "metadata": {
        "id": "SlxmsiBtnqdd",
        "colab": {
          "base_uri": "https://localhost:8080/"
        },
        "outputId": "4bfb7faf-ae40-49da-ed63-30cd8ab66caf"
      },
      "outputs": [
        {
          "output_type": "stream",
          "name": "stdout",
          "text": [
            "행맨 게임 시작\n",
            "_ _ _ _ _\n",
            "알파벳 하나만 입력해볼래? a\n",
            "오? 잘하는데?\n",
            "\n",
            "정답은?  a _ _ _ _\n",
            "\n",
            "이미 시도한 알파벳: a\n",
            "---------------------------------------------------\n",
            "알파벳 하나만 입력해볼래? p\n",
            "오? 잘하는데?\n",
            "\n",
            "정답은?  a p p _ _\n",
            "\n",
            "이미 시도한 알파벳: a p\n",
            "---------------------------------------------------\n",
            "알파벳 하나만 입력해볼래? l\n",
            "오? 잘하는데?\n",
            "\n",
            "정답은?  a p p l _\n",
            "\n",
            "이미 시도한 알파벳: a p l\n",
            "---------------------------------------------------\n",
            "알파벳 하나만 입력해볼래? e\n",
            "오? 잘하는데?\n",
            "\n",
            "정답은?  a p p l e\n",
            "\n",
            "이미 시도한 알파벳: a p l e\n",
            "---------------------------------------------------\n",
            "축하해! 정답이야.\n"
          ]
        }
      ],
      "source": [
        "import random\n",
        "\n",
        "words = [\"apple\", \"banana\", \"orange\", \"grape\", \"lemon\"]\n",
        "selected_word = random.choice(words)\n",
        "word_length = len(selected_word)\n",
        "display = ['_'] * word_length   #밑줄로 만든 리스트\n",
        "entered_alphabet = []  #입력됬던 알파벳들\n",
        "\n",
        "Life = 10\n",
        "\n",
        "print(\"행맨 게임 시작\")\n",
        "print(' '.join(display))\n",
        "\n",
        "while Life > 0 and '_' in display:\n",
        "    guess = input(\"알파벳 하나만 입력해볼래? \").lower()  #입력받기\n",
        "\n",
        "    if len(guess) != 1 or not guess.isalpha():  #알파벳이 맞는지\n",
        "        print(\"알파벳을 입력해야지!\")\n",
        "        continue\n",
        "\n",
        "    if guess in entered_alphabet:   #중복 체크\n",
        "        print(\"이미 시도했잖아. 다른거 다른거.\")\n",
        "        continue\n",
        "\n",
        "    entered_alphabet.append(guess)  #입력했던 알파벳을 추가\n",
        "\n",
        "    if guess in selected_word:  #맞출때\n",
        "        print(\"오? 잘하는데?\")\n",
        "        for i in range(len(selected_word)):\n",
        "            if selected_word[i] == guess:\n",
        "                display[i] = guess  #맞춘 알파벳의 위치를 displaa에 적용\n",
        "        print()\n",
        "\n",
        "    else:\n",
        "        Life -= 1   #틀렸을때\n",
        "        print(f\"에이 잘 좀 해봐. 남은 목숨은 {Life}번\")\n",
        "        print()\n",
        "\n",
        "    print(\"정답은? \",' '.join(display))\n",
        "    print()\n",
        "    print(f\"이미 시도한 알파벳: {' '.join(entered_alphabet)}\")\n",
        "    print(\"---------------------------------------------------\")\n",
        "\n",
        "if '_' not in display: # '_'이 없다면 남은 횟수 출력 with 메시지\n",
        "    print(\"축하해! 정답이야.\")\n",
        "    print(f\"{10-Life}번 틀리고 맞췄네?\")\n",
        "\n",
        "else: #끝까지 맞추지 못했을때 정답을 출력\n",
        "    print(f\"아쉽다. 정답은 {selected_word}였어.\")\n"
      ]
    }
  ],
  "metadata": {
    "colab": {
      "provenance": [],
      "include_colab_link": true
    },
    "kernelspec": {
      "display_name": "Python 3",
      "name": "python3"
    },
    "language_info": {
      "name": "python"
    }
  },
  "nbformat": 4,
  "nbformat_minor": 0
}